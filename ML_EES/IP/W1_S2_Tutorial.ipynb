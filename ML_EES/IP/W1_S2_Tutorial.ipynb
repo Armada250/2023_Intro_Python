{
  "nbformat": 4,
  "nbformat_minor": 0,
  "metadata": {
    "colab": {
      "name": "W1_S2_Tutorial.ipynb",
      "provenance": [],
      "toc_visible": true,
      "include_colab_link": true
    },
    "kernelspec": {
      "name": "python3",
      "display_name": "Python 3"
    },
    "language_info": {
      "name": "python"
    }
  },
  "cells": [
    {
      "cell_type": "markdown",
      "metadata": {
        "id": "view-in-github",
        "colab_type": "text"
      },
      "source": [
        "<a href=\"https://colab.research.google.com/github/Armada250/2023_Intro_Python/blob/main/ML_EES/IP/W1_S2_Tutorial.ipynb\" target=\"_parent\"><img src=\"https://colab.research.google.com/assets/colab-badge.svg\" alt=\"Open In Colab\"/></a>"
      ]
    },
    {
      "cell_type": "markdown",
      "source": [
        "# Data Structure, Functions, and Classes\n",
        "\n",
        "In this notebook, we will be discovering how data is stored in Python. We will cover:\n",
        "\n",
        "1. Lists\n",
        "2. Tuples\n",
        "3. Dictionaries\n",
        "\n",
        "Reference:\n",
        "* IBM Congnitive Class - Intro to Python (https://github.com/computationalcore/introduction-to-python)\n",
        "* CUSP UCSL bootcamp 2017 (https://github.com/Mohitsharma44/ucsl17)"
      ],
      "metadata": {
        "id": "As6EA_JX91Ue"
      }
    },
    {
      "cell_type": "markdown",
      "source": [
        "## **Lists**\n",
        "Creating lists is very easy in Python. We can create lists by separating different items with commas in square brackets:\\\n",
        "`[Item1,Item2,Item3]`\n",
        "\n",
        "There are many different ways to interact with lists. Exploring them is part of the fun of Python.\n",
        "\n",
        "**list.append(x)** Add an item to the end of the list. Equivalent to `a[len(a):] = [x]`.\n",
        "\n",
        "**list.extend(L)** Extend the list by appending all the items in the given list. Equivalent to `a[len(a):] = L`.\n",
        "\n",
        "**list.insert(i, x)** Insert an item at a given position. The first argument is\n",
        "the index of the element before which to insert, so `a.insert(0, x)` inserts\n",
        "at the front of the list, and `a.insert(len(a), x)` is equivalent to\n",
        "`a.append(x)`.\n",
        "\n",
        "**list.remove(x)** Remove the first item from the list whose value is x. It is an error if there is no such item.\n",
        "\n",
        "**list.pop([i])** Remove the item at the given position in the list, and return it.\n",
        "If no index is specified, `a.pop()` removes and returns the last item in the list.\n",
        "(The square brackets around the i in the method signature denote that the\n",
        " parameter is optional, not that you should type square brackets at that\n",
        " position. You will see this notation frequently in the Python Library Reference.)\n",
        "\n",
        "**list.clear()** Remove all items from the list. Equivalent to `del a[:]`.\n",
        "\n",
        "**list.index(x)** Return the index in the list of the first item whose value is x.\n",
        "It is an error if there is no such item.\n",
        "\n",
        "**list.count(x)** Return the number of times x appears in the list.\n",
        "\n",
        "**list.sort()** Sort the items of the list in place.\n",
        "\n",
        "**list.reverse()** Reverse the elements of the list in place.\n",
        "\n",
        "**list.copy()** Return a shallow copy of the list. Equivalent to `a[:]`."
      ],
      "metadata": {
        "id": "CzbcuCye96oD"
      }
    },
    {
      "cell_type": "code",
      "source": [
        "# Let's experiment with some of these methods!\n",
        "# 1. Create a list first\n",
        "l = ['dog', 'cat', 'fish','chicken','eggs','duck','wolf']\n",
        "type(l)"
      ],
      "metadata": {
        "colab": {
          "base_uri": "https://localhost:8080/"
        },
        "id": "D7hU4VTd98ni",
        "outputId": "61ad4c95-1b8f-4677-b660-65ba3900cd2e"
      },
      "execution_count": 2,
      "outputs": [
        {
          "output_type": "execute_result",
          "data": {
            "text/plain": [
              "list"
            ]
          },
          "metadata": {},
          "execution_count": 2
        }
      ]
    },
    {
      "cell_type": "code",
      "source": [
        "# Slicing the list (On coupe des informations de la liste)\n",
        "print(l[0],l[-1],l[0:3],l[-3:-1])"
      ],
      "metadata": {
        "colab": {
          "base_uri": "https://localhost:8080/"
        },
        "id": "ktyeLG7Z927-",
        "outputId": "057c8d85-9d54-4e01-f5d3-e6b9e88fa01e"
      },
      "execution_count": 4,
      "outputs": [
        {
          "output_type": "stream",
          "name": "stdout",
          "text": [
            "dog wolf ['dog', 'cat', 'fish'] ['eggs', 'duck']\n"
          ]
        }
      ]
    },
    {
      "cell_type": "markdown",
      "source": [
        "**Consider memorizing this syntax!**\n",
        "It is central to so much of Python and often proves confusing for users coming from other languages."
      ],
      "metadata": {
        "id": "GLjJPEh59-aj"
      }
    },
    {
      "cell_type": "markdown",
      "source": [
        "#### **Updating list**\n",
        "Unlike strings and tuples, lists are mutable. You can update the list and change the items whenever you want."
      ],
      "metadata": {
        "id": "gdeI3-vu-DHd"
      }
    },
    {
      "cell_type": "code",
      "source": [
        "\n",
        "\n",
        "my_list = ['dog', 'cat', 'fish','chicken','eggs','duck']\n",
        "my_list[2] = 'Tree'\n",
        "print('Original Contents: \\n', my_list)\n",
        "print('Original Length of array: \\n', len(my_list))\n",
        "\n",
        "# Remove some elements/ changing the size\n",
        "my_list[2:4] = []\n",
        "print('Modified Contents: \\n', my_list)\n",
        "print('Modified Length of array: \\n', len(my_list))"
      ],
      "metadata": {
        "colab": {
          "base_uri": "https://localhost:8080/"
        },
        "id": "yAkzz4d1-AVO",
        "outputId": "11a6e52d-b724-4efc-c7b4-d807368cd8c5"
      },
      "execution_count": 5,
      "outputs": [
        {
          "output_type": "stream",
          "name": "stdout",
          "text": [
            "Original Contents: \n",
            " ['dog', 'cat', 'Tree', 'chicken', 'eggs', 'duck']\n",
            "Original Length of array: \n",
            " 6\n",
            "Modified Contents: \n",
            " ['dog', 'cat', 'eggs', 'duck']\n",
            "Modified Length of array: \n",
            " 4\n"
          ]
        }
      ]
    },
    {
      "cell_type": "markdown",
      "source": [
        "Let modify the list with some list specific methods we have discussed earlier"
      ],
      "metadata": {
        "id": "yHVTz0Dj_GGF"
      }
    },
    {
      "cell_type": "code",
      "source": [
        "#@title  #### **Add new items to list**\n",
        "my_list = ['dog', 'cat', 'fish','chicken','eggs','duck']\n",
        "my_list.append('Python') # It will append the item to the end of the list\n",
        "print(my_list)\n",
        "my_list.insert(0, 'Julia')\n",
        "print(my_list)"
      ],
      "metadata": {
        "colab": {
          "base_uri": "https://localhost:8080/"
        },
        "id": "4oWAQmg2-GA9",
        "outputId": "39e0c235-75ab-43b3-f03c-84644acd257f"
      },
      "execution_count": 10,
      "outputs": [
        {
          "output_type": "stream",
          "name": "stdout",
          "text": [
            "['dog', 'cat', 'fish', 'chicken', 'eggs', 'duck', 'Python']\n",
            "['Julia', 'dog', 'cat', 'fish', 'chicken', 'eggs', 'duck', 'Python']\n"
          ]
        }
      ]
    },
    {
      "cell_type": "code",
      "source": [
        "#@title  #### **Remove list items**\n",
        "my_list.pop(0)\n",
        "print(my_list)\n",
        "del(my_list[-1])\n",
        "print(my_list)"
      ],
      "metadata": {
        "colab": {
          "base_uri": "https://localhost:8080/"
        },
        "id": "0YkFz9AI_LEG",
        "outputId": "7f08ac1d-0bc7-42e3-de6e-59297141fbad"
      },
      "execution_count": 13,
      "outputs": [
        {
          "output_type": "stream",
          "name": "stdout",
          "text": [
            "['cat', 'fish', 'chicken', 'eggs', 'duck']\n",
            "['cat', 'fish', 'chicken', 'eggs']\n"
          ]
        }
      ]
    },
    {
      "cell_type": "code",
      "source": [
        "#@title #### **Count, Index**\n",
        "print(my_list.count('cat'))\n",
        "print(my_list.index('eggs'))"
      ],
      "metadata": {
        "colab": {
          "base_uri": "https://localhost:8080/"
        },
        "id": "T-Y-PmwF_MUQ",
        "outputId": "99edc6d6-b22a-41fa-a9a1-bf4d848f08e3"
      },
      "execution_count": 19,
      "outputs": [
        {
          "output_type": "stream",
          "name": "stdout",
          "text": [
            "1\n",
            "3\n"
          ]
        }
      ]
    },
    {
      "cell_type": "code",
      "source": [
        "#@title #### **Sort, Reverse**\n",
        "my_list = ['dog', 'cat', 'fish','chicken','eggs','duck']\n",
        "my_list.reverse()\n",
        "print(my_list)\n",
        "my_list.sort()\n",
        "print(my_list)\n",
        "my_list.sort(reverse=True)\n",
        "print(my_list)"
      ],
      "metadata": {
        "colab": {
          "base_uri": "https://localhost:8080/"
        },
        "id": "-mUrFOuA_N2S",
        "outputId": "146ec260-0035-4269-d50a-fb8dfad11d76"
      },
      "execution_count": 20,
      "outputs": [
        {
          "output_type": "stream",
          "name": "stdout",
          "text": [
            "['duck', 'eggs', 'chicken', 'fish', 'cat', 'dog']\n",
            "['cat', 'chicken', 'dog', 'duck', 'eggs', 'fish']\n",
            "['fish', 'eggs', 'duck', 'dog', 'chicken', 'cat']\n"
          ]
        }
      ]
    },
    {
      "cell_type": "code",
      "source": [
        "#@title #### **List Concatenation**\n",
        "my_list = ['dog', 'cat', 'fish','chicken','eggs','duck']\n",
        "my_list2 = ['Python','Julia','C++']\n",
        "print(my_list+my_list2)\n",
        "my_list.extend(my_list2)\n",
        "print(my_list)"
      ],
      "metadata": {
        "colab": {
          "base_uri": "https://localhost:8080/"
        },
        "id": "Y5iyUrwW_Qub",
        "outputId": "cefe767a-057a-4f0d-9b6b-6f4b6cd015a4"
      },
      "execution_count": 21,
      "outputs": [
        {
          "output_type": "stream",
          "name": "stdout",
          "text": [
            "['dog', 'cat', 'fish', 'chicken', 'eggs', 'duck', 'Python', 'Julia', 'C++']\n",
            "['dog', 'cat', 'fish', 'chicken', 'eggs', 'duck', 'Python', 'Julia', 'C++']\n"
          ]
        }
      ]
    },
    {
      "cell_type": "markdown",
      "source": [
        "#### **Use lists in loops**"
      ],
      "metadata": {
        "id": "iEuE6l38_TDj"
      }
    },
    {
      "cell_type": "code",
      "source": [
        "for index in range(len(my_list)): # start from 0 and go till the length of the list.\n",
        "    print(\"my_list[{}] : {}\".format(index, my_list[index]))"
      ],
      "metadata": {
        "colab": {
          "base_uri": "https://localhost:8080/"
        },
        "id": "DuGwy4v0_adM",
        "outputId": "f6da4453-96a7-4544-f6fd-5b8407218a1e"
      },
      "execution_count": 23,
      "outputs": [
        {
          "output_type": "stream",
          "name": "stdout",
          "text": [
            "my_list[0] : dog\n",
            "my_list[1] : cat\n",
            "my_list[2] : fish\n",
            "my_list[3] : chicken\n",
            "my_list[4] : eggs\n",
            "my_list[5] : duck\n",
            "my_list[6] : Python\n",
            "my_list[7] : Julia\n",
            "my_list[8] : C++\n"
          ]
        }
      ]
    },
    {
      "cell_type": "code",
      "source": [
        "# We can actually do the same thing with enumerate()\n",
        "for index,items in enumerate(my_list):\n",
        "  print(\"my_list[{}] : {}\".format(index,items))"
      ],
      "metadata": {
        "colab": {
          "base_uri": "https://localhost:8080/"
        },
        "id": "6FBpPecA_d-0",
        "outputId": "b2abef13-7e97-473c-a02f-864ac96f64e2"
      },
      "execution_count": 22,
      "outputs": [
        {
          "output_type": "stream",
          "name": "stdout",
          "text": [
            "my_list[0] : dog\n",
            "my_list[1] : cat\n",
            "my_list[2] : fish\n",
            "my_list[3] : chicken\n",
            "my_list[4] : eggs\n",
            "my_list[5] : duck\n",
            "my_list[6] : Python\n",
            "my_list[7] : Julia\n",
            "my_list[8] : C++\n"
          ]
        }
      ]
    },
    {
      "cell_type": "markdown",
      "source": [
        "**List Comprehension**\n",
        "\n",
        "List comprehension is a syntactic way of creating a list based on the existing list, just like we did when copying the lists above. The basic structure of the syntax includes a for loop that traverses the list and evaluates a condition using the if.. else condition. It then stores the output of the condition as a new list. Let's take a look at a quick example:"
      ],
      "metadata": {
        "id": "X7mxdvzL_swr"
      }
    },
    {
      "cell_type": "code",
      "source": [
        "my_list1 = [elem for index,elem in enumerate(my_list) if index % 2 == 0]\n",
        "print(my_list1)\n",
        "\n",
        "squares = [n**2 for n in range(5)]\n",
        "print(squares)"
      ],
      "metadata": {
        "colab": {
          "base_uri": "https://localhost:8080/"
        },
        "id": "Lpg1hilm_gZm",
        "outputId": "f1132ef3-2218-49dd-d483-cc536f930a0a"
      },
      "execution_count": 24,
      "outputs": [
        {
          "output_type": "stream",
          "name": "stdout",
          "text": [
            "['dog', 'fish', 'eggs', 'Python', 'C++']\n",
            "[0, 1, 4, 9, 16]\n"
          ]
        }
      ]
    },
    {
      "cell_type": "markdown",
      "source": [
        "**Traverse two lists together with `zip()`**"
      ],
      "metadata": {
        "id": "JeZ4qEmv_ZdH"
      }
    },
    {
      "cell_type": "code",
      "source": [
        "# iterate over two lists together uzing zip\n",
        "for item1, item2 in zip(['pig','duck','butterfly'],[0,1,2]):\n",
        "    print('first:', item1, 'second:', item2)"
      ],
      "metadata": {
        "colab": {
          "base_uri": "https://localhost:8080/"
        },
        "id": "OXc3dNzA_ztj",
        "outputId": "1514c068-f28b-4e29-b920-17474d88bc23"
      },
      "execution_count": 25,
      "outputs": [
        {
          "output_type": "stream",
          "name": "stdout",
          "text": [
            "first: pig second: 0\n",
            "first: duck second: 1\n",
            "first: butterfly second: 2\n"
          ]
        }
      ]
    },
    {
      "cell_type": "markdown",
      "source": [
        "## **Tuples**\n",
        "Tuples are similar to lists, but they are *immutable*—they can’t be extended or modified. What is the point of this? Generally speaking: to pack together inhomogeneous data. Tuples can then be unpacked and distributed by other parts of your code.\n",
        "\n",
        "Tuples may seem confusing at first, but with time you will come to appreciate them."
      ],
      "metadata": {
        "id": "Gwkq2ppUAeiw"
      }
    },
    {
      "cell_type": "code",
      "source": [
        "# tuples are created with parentheses, or just commas\n",
        "a = ('Ryan', 33, True)\n",
        "b = 'Takaya', 25, False\n",
        "type(b)"
      ],
      "metadata": {
        "colab": {
          "base_uri": "https://localhost:8080/"
        },
        "id": "s2DOjqpjAfbE",
        "outputId": "743adf5e-610f-4b5e-bd63-3e3fa21e3a96"
      },
      "execution_count": 26,
      "outputs": [
        {
          "output_type": "execute_result",
          "data": {
            "text/plain": [
              "tuple"
            ]
          },
          "metadata": {},
          "execution_count": 26
        }
      ]
    },
    {
      "cell_type": "code",
      "source": [
        "# can be indexed like arrays\n",
        "print(a[1]) # not the first element!"
      ],
      "metadata": {
        "colab": {
          "base_uri": "https://localhost:8080/"
        },
        "id": "JFllK1E2Ahed",
        "outputId": "5aadcede-54db-48d8-dae7-973e7a4b6f4e"
      },
      "execution_count": 27,
      "outputs": [
        {
          "output_type": "stream",
          "name": "stdout",
          "text": [
            "33\n"
          ]
        }
      ]
    },
    {
      "cell_type": "code",
      "source": [
        "# and they can be unpacked\n",
        "name, age, status = a\n",
        "print(name,age,status)"
      ],
      "metadata": {
        "colab": {
          "base_uri": "https://localhost:8080/"
        },
        "id": "KRV2yk6TAjzj",
        "outputId": "f5a60a08-f842-4338-a530-cf6e231b73cf"
      },
      "execution_count": 28,
      "outputs": [
        {
          "output_type": "stream",
          "name": "stdout",
          "text": [
            "Ryan 33 True\n"
          ]
        }
      ]
    },
    {
      "cell_type": "code",
      "source": [
        "print(a.index('Ryan'))"
      ],
      "metadata": {
        "id": "w3QMVyLvAlhC",
        "outputId": "221a88d3-2633-408b-8000-16f9b9d3b002",
        "colab": {
          "base_uri": "https://localhost:8080/"
        }
      },
      "execution_count": 29,
      "outputs": [
        {
          "output_type": "stream",
          "name": "stdout",
          "text": [
            "0\n"
          ]
        }
      ]
    },
    {
      "cell_type": "markdown",
      "source": [
        "## **Dictionaries**\n",
        "This is an extremely useful data structure. It maps **keys** to **values**.\n",
        "\n",
        "Dictionaries are unordered!"
      ],
      "metadata": {
        "id": "wlCgfXt7Am59"
      }
    },
    {
      "cell_type": "code",
      "source": [
        "#@title #### **Different ways to create dictionaries**\n",
        "d = {'name': 'Timothee', 'age': 1} # Write your name and your age here\n",
        "e = dict(name='Timothee', age=1) # Write someone else's name and their age here"
      ],
      "metadata": {
        "id": "165sS3z5A4CD"
      },
      "execution_count": 30,
      "outputs": []
    },
    {
      "cell_type": "code",
      "source": [],
      "metadata": {
        "id": "uHw-YMRywHaY"
      },
      "execution_count": null,
      "outputs": []
    },
    {
      "cell_type": "code",
      "source": [
        "#@title #### **Access Dictionary Items**\n",
        "print(d['name'])\n",
        "print(\"name:   \", d.get('name'  , 'Not Found'))\n",
        "print(\"gender:   \", d.get('gender', 'Not Found'))"
      ],
      "metadata": {
        "colab": {
          "base_uri": "https://localhost:8080/"
        },
        "id": "T94QBiI3A734",
        "outputId": "de5f388f-9bf7-4589-b3df-a9619b0ebe04"
      },
      "execution_count": 31,
      "outputs": [
        {
          "output_type": "stream",
          "name": "stdout",
          "text": [
            "Timothee\n",
            "name:    Timothee\n",
            "gender:    Not Found\n"
          ]
        }
      ]
    },
    {
      "cell_type": "code",
      "source": [
        "#@title #### **Updating Dictionary**\n",
        "# Add a new variable-value pair:\n",
        "d['height'] = (1,50) # a tuple, e.g. your height in (meters,centimeters)\n",
        "d"
      ],
      "metadata": {
        "colab": {
          "base_uri": "https://localhost:8080/"
        },
        "id": "I_XHDwZiA9Pa",
        "outputId": "a06ff1b1-f2ad-497e-e0ea-ead61f73c4ae"
      },
      "execution_count": 32,
      "outputs": [
        {
          "output_type": "execute_result",
          "data": {
            "text/plain": [
              "{'name': 'Timothee', 'age': 1, 'height': (1, 50)}"
            ]
          },
          "metadata": {},
          "execution_count": 32
        }
      ]
    },
    {
      "cell_type": "code",
      "source": [
        "#@title #### **Append Dictionary**\n",
        "# update() add two dictionary together\n",
        "newdict = dict(location='Lausanne',nationality='CH',birth_year='2021')\n",
        "d.update(newdict)\n",
        "print(d)"
      ],
      "metadata": {
        "colab": {
          "base_uri": "https://localhost:8080/"
        },
        "id": "rqIhYfWBA-ar",
        "outputId": "457cc1cd-6377-471a-a44a-d68a385a931e"
      },
      "execution_count": 33,
      "outputs": [
        {
          "output_type": "stream",
          "name": "stdout",
          "text": [
            "{'name': 'Timothee', 'age': 1, 'height': (1, 50), 'location': 'Lausanne', 'nationality': 'CH', 'birth_year': '2021'}\n"
          ]
        }
      ]
    },
    {
      "cell_type": "code",
      "source": [
        "#@title #### **Remove Elements from Dictionary**\n",
        "# pop(),del()\n",
        "d2 = d.copy()\n",
        "d2.pop('age')\n",
        "del d['age']\n",
        "print(f\"Identical? {d==d2}\")"
      ],
      "metadata": {
        "colab": {
          "base_uri": "https://localhost:8080/"
        },
        "id": "v_1gPA7jA_qB",
        "outputId": "a9536c7c-b5e5-4f8a-ff5b-bc52a87e0903"
      },
      "execution_count": 34,
      "outputs": [
        {
          "output_type": "stream",
          "name": "stdout",
          "text": [
            "Identical? True\n"
          ]
        }
      ]
    },
    {
      "cell_type": "code",
      "source": [
        "#@title #### **Traverse Dictionary**\n",
        "# iterate over keys\n",
        "for k in d:\n",
        "    print(k, d[k])"
      ],
      "metadata": {
        "colab": {
          "base_uri": "https://localhost:8080/"
        },
        "id": "XLZvTWWFBFKd",
        "outputId": "62ae5f9c-9943-4eb6-bc15-fd15bf3ef5aa"
      },
      "execution_count": 35,
      "outputs": [
        {
          "output_type": "stream",
          "name": "stdout",
          "text": [
            "name Timothee\n",
            "height (1, 50)\n",
            "location Lausanne\n",
            "nationality CH\n",
            "birth_year 2021\n"
          ]
        }
      ]
    },
    {
      "cell_type": "code",
      "source": [
        "# better way\n",
        "for key, val in d.items():\n",
        "    print(key, val)"
      ],
      "metadata": {
        "colab": {
          "base_uri": "https://localhost:8080/"
        },
        "id": "oR4Wt1faBGen",
        "outputId": "4dd2a321-a254-4586-93ff-3da464d10f0b"
      },
      "execution_count": 36,
      "outputs": [
        {
          "output_type": "stream",
          "name": "stdout",
          "text": [
            "name Timothee\n",
            "height (1, 50)\n",
            "location Lausanne\n",
            "nationality CH\n",
            "birth_year 2021\n"
          ]
        }
      ]
    },
    {
      "cell_type": "code",
      "source": [
        "print(list(d.keys()))\n",
        "print(list(d.values()))\n",
        "print(list(d.items()))"
      ],
      "metadata": {
        "colab": {
          "base_uri": "https://localhost:8080/"
        },
        "id": "ZvXtIujQBH5N",
        "outputId": "f430a592-fbec-4395-eee5-1d7b4e5a1be0"
      },
      "execution_count": 37,
      "outputs": [
        {
          "output_type": "stream",
          "name": "stdout",
          "text": [
            "['name', 'height', 'location', 'nationality', 'birth_year']\n",
            "['Timothee', (1, 50), 'Lausanne', 'CH', '2021']\n",
            "[('name', 'Timothee'), ('height', (1, 50)), ('location', 'Lausanne'), ('nationality', 'CH'), ('birth_year', '2021')]\n"
          ]
        }
      ]
    },
    {
      "cell_type": "code",
      "source": [
        "#@title #### **Sort Dictionary**\n",
        "# sorted()\n",
        "states_dict = {'AL': 'Alabama', 'CA': 'California',\n",
        "               'NJ': 'New Jersey', 'NY': 'New York'}\n",
        "sorted_keys = sorted(list(states_dict.keys()), reverse=False)\n",
        "for key in sorted_keys:\n",
        "    print('{} : {}'.format(key, states_dict[key]))"
      ],
      "metadata": {
        "colab": {
          "base_uri": "https://localhost:8080/"
        },
        "id": "xA9cTpBrBJiH",
        "outputId": "658bf8db-2861-45b0-d40f-28daa88fe126"
      },
      "execution_count": 38,
      "outputs": [
        {
          "output_type": "stream",
          "name": "stdout",
          "text": [
            "AL : Alabama\n",
            "CA : California\n",
            "NJ : New Jersey\n",
            "NY : New York\n"
          ]
        }
      ]
    },
    {
      "cell_type": "markdown",
      "source": [
        "## **Functions and Classes**\n",
        "For longer and more complex tasks, it is important to organize your code into reuseable elements. For example, if you find yourself cutting and pasting the same or similar lines of code over and over, you probably need to define a *function* to encapsulate that code and make it reusable. An important principle in programming in **DRY**: “don’t repeat yourself”. Repetition is tedious and opens you up to errors. Strive for elegance and simplicity in your programs.\n",
        "\n",
        "We can use the following two things to organize our code:\n",
        "\n",
        "1. Functions\n",
        "2. Classes\n",
        "\n",
        "Reference:\n",
        "* IBM Congnitive Class - Intro to Python (https://github.com/computationalcore/introduction-to-python)\n",
        "* CUSP UCSL bootcamp 2017 (https://github.com/Mohitsharma44/ucsl17)\n",
        "* Introduction to Python (Ryan Abernathy; https://rabernat.github.io/research_computing/intro-to-python.html)"
      ],
      "metadata": {
        "id": "hrRHXOpMBzwQ"
      }
    },
    {
      "cell_type": "markdown",
      "source": [
        "### **Functions**\n",
        "Functions are a central part of advanced python programming. Functions take some inputs (“arguments”) and do something in response. Usually functions return something, but not always."
      ],
      "metadata": {
        "id": "1nCJwF_EB5jT"
      }
    },
    {
      "cell_type": "code",
      "source": [
        "#@title **Define a Function**\n",
        "def say_hello():\n",
        "    \"\"\"Return the word hello.\"\"\"\n",
        "    return 'Hello'\n",
        "\n",
        "def say_hello_to(name=None):\n",
        "  \"\"\"\n",
        "  Return the word hello to someone\n",
        "  \"\"\"\n",
        "  return 'Hello, '+str(name)\n",
        "\n",
        "# take an optional keyword argument\n",
        "def say_hello_or_hola(name, french=False):\n",
        "    \"\"\"Say hello in multiple languages.\"\"\"\n",
        "    if french:\n",
        "        greeting = 'Bonjour '\n",
        "    else:\n",
        "        greeting = 'Hello '\n",
        "    return greeting + name\n",
        "\n",
        "# flexible number of arguments\n",
        "def say_hello_to_everyone(*args):\n",
        "    return ['Bonjour ' + str(a) for a in args]"
      ],
      "metadata": {
        "id": "QDxK4lbAB0tJ"
      },
      "execution_count": 39,
      "outputs": []
    },
    {
      "cell_type": "code",
      "source": [
        "print(say_hello())\n",
        "res = say_hello()\n",
        "print(res)"
      ],
      "metadata": {
        "colab": {
          "base_uri": "https://localhost:8080/"
        },
        "id": "lc7m5iPKB28A",
        "outputId": "55ebdb60-df62-4a60-abff-3c1053261f8d"
      },
      "execution_count": 40,
      "outputs": [
        {
          "output_type": "stream",
          "name": "stdout",
          "text": [
            "Hello\n",
            "Hello\n"
          ]
        }
      ]
    },
    {
      "cell_type": "code",
      "source": [
        "print(say_hello_or_hola('Frédéric', french=True)) # Greet the rector\n",
        "print(say_hello_or_hola('Frédéric', french=False))\n",
        "print(say_hello_to_everyone('Niklas', 'Valérie', 'Marie-Élodie')) # Greet the deans"
      ],
      "metadata": {
        "id": "3mYjOk7QB_km",
        "outputId": "f54b1f92-b8a7-4199-b66e-597e827810e8",
        "colab": {
          "base_uri": "https://localhost:8080/"
        }
      },
      "execution_count": 41,
      "outputs": [
        {
          "output_type": "stream",
          "name": "stdout",
          "text": [
            "Bonjour Frédéric\n",
            "Hello Frédéric\n",
            "['Bonjour Niklas', 'Bonjour Valérie', 'Bonjour Marie-Élodie']\n"
          ]
        }
      ]
    },
    {
      "cell_type": "code",
      "source": [
        "#@title **Anonymous Function**\n",
        "mul = lambda a, b: a*b\n",
        "print(mul(4,5))"
      ],
      "metadata": {
        "id": "4AgbvjCUCGOh",
        "outputId": "c21fd885-3c79-40c5-bfb4-5caba3a97130",
        "colab": {
          "base_uri": "https://localhost:8080/"
        }
      },
      "execution_count": 42,
      "outputs": [
        {
          "output_type": "stream",
          "name": "stdout",
          "text": [
            "20\n"
          ]
        }
      ]
    },
    {
      "cell_type": "code",
      "source": [
        "#@title **Map Function**\n",
        "# syntax: map(function,iterator)\n",
        "numbers = range(1, 10)\n",
        "def square(num):\n",
        "    return num**2\n",
        "list(map(square, numbers))\n",
        "# The equivalent of this function is:\n",
        "# result = []\n",
        "# for i in range(1, 10):\n",
        "#     result.append(i**2)"
      ],
      "metadata": {
        "id": "vJBzGbhBCKMp",
        "outputId": "79dd298f-52bd-4b96-ab81-06546feb31a9",
        "colab": {
          "base_uri": "https://localhost:8080/"
        }
      },
      "execution_count": 43,
      "outputs": [
        {
          "output_type": "execute_result",
          "data": {
            "text/plain": [
              "[1, 4, 9, 16, 25, 36, 49, 64, 81]"
            ]
          },
          "metadata": {},
          "execution_count": 43
        }
      ]
    },
    {
      "cell_type": "code",
      "source": [
        "# We can also write this in a single line!\n",
        "list(map(lambda x: x**2, range(1, 10)))"
      ],
      "metadata": {
        "id": "Y7wsf8UACMZl",
        "outputId": "36efbe88-6ec1-4276-eb42-7e621774eb1d",
        "colab": {
          "base_uri": "https://localhost:8080/"
        }
      },
      "execution_count": 44,
      "outputs": [
        {
          "output_type": "execute_result",
          "data": {
            "text/plain": [
              "[1, 4, 9, 16, 25, 36, 49, 64, 81]"
            ]
          },
          "metadata": {},
          "execution_count": 44
        }
      ]
    },
    {
      "cell_type": "code",
      "source": [
        "# Return all values for which %2 is non zero.. (List of all odd numbers, right?)\n",
        "list(filter(lambda x: x%2, range(1, 10)))"
      ],
      "metadata": {
        "id": "DTNuq98dCNqj",
        "outputId": "7c505280-b540-40c7-d5c7-c3544e289079",
        "colab": {
          "base_uri": "https://localhost:8080/"
        }
      },
      "execution_count": 45,
      "outputs": [
        {
          "output_type": "execute_result",
          "data": {
            "text/plain": [
              "[1, 3, 5, 7, 9]"
            ]
          },
          "metadata": {},
          "execution_count": 45
        }
      ]
    },
    {
      "cell_type": "markdown",
      "source": [
        "#### **Pure vs Impure Functions**\n",
        "Functions that don’t modify their arguments or produce any other side-effects are called *pure*.\n",
        "\n",
        "Functions that modify their arguments or cause other actions to occur are"
      ],
      "metadata": {
        "id": "uDf3R29HCSIx"
      }
    },
    {
      "cell_type": "code",
      "source": [
        "# Impure Functions\n",
        "def remove_last_from_list(input_list):\n",
        "    input_list.pop()\n",
        "names = ['Niklas', 'Valérie', 'Marie-Élodie']\n",
        "remove_last_from_list(names)\n",
        "print(names)\n",
        "remove_last_from_list(names)\n",
        "print(names)"
      ],
      "metadata": {
        "id": "ZFXukQonCSuA"
      },
      "execution_count": null,
      "outputs": []
    },
    {
      "cell_type": "code",
      "source": [
        "#We can do something similar with a pure function. In general, pure functions are safer and more reliable.\n",
        "def remove_last_from_list_pure(input_list):\n",
        "    new_list = input_list.copy()\n",
        "    new_list.pop()\n",
        "    return new_list\n",
        "\n",
        "names = ['Niklas', 'Valérie', 'Marie-Élodie']\n",
        "new_names = remove_last_from_list_pure(names)\n",
        "print(names)\n",
        "print(new_names)"
      ],
      "metadata": {
        "id": "rWgib83NCVU9"
      },
      "execution_count": null,
      "outputs": []
    },
    {
      "cell_type": "markdown",
      "source": [
        "#### **Namespace**\n",
        "In python, a namespace is a mapping between variable names and python object. You can think of it like a dictionary.\n",
        "The namespace can change depending on where you are in your program. Functions can “see” the variables in the parent namespace, but they can also redefine them in a private scope.\n",
        "\n",
        "It's important that you be aware of the name spaces in your code, specially when dealing with mutable objects."
      ],
      "metadata": {
        "id": "6H4j6r_-CZBJ"
      }
    },
    {
      "cell_type": "code",
      "source": [
        "name = 'Tom' # Enter your name here\n",
        "def print_name():\n",
        "    print(name)\n",
        "\n",
        "def print_name_v2():\n",
        "    name = 'Estelle'\n",
        "    print(name)\n",
        "\n",
        "print_name()\n",
        "print_name_v2()\n",
        "print(name)"
      ],
      "metadata": {
        "id": "Yc5umEuVCaQv"
      },
      "execution_count": null,
      "outputs": []
    },
    {
      "cell_type": "code",
      "source": [
        "friends_list = ['Mario', 'Florence', 'Richard']\n",
        "pet_tuple = ('Hedwig', 'Na-paw-lyon', 'Cat-hilda')"
      ],
      "metadata": {
        "id": "Q-0HxsCmCbie"
      },
      "execution_count": null,
      "outputs": []
    },
    {
      "cell_type": "code",
      "source": [
        "def greeter(friends, pets):\n",
        "    print(\"It's time to say hi to my friends.\")\n",
        "    [print(f'Hi {name}! ', end=\"\") for name in friends]\n",
        "    print('\\nThese are the names of my pets:')\n",
        "    [print(f'{pet} ', end=\"\") for pet in pets]\n",
        "    print('\\n')\n",
        "\n",
        "def pets_are_friends(friends, pets):\n",
        "    print(\"I consider both my pets and my friend's pets my friends!\")\n",
        "\n",
        "    #add friend's pets\n",
        "    full_pets = pets\n",
        "    full_pets += ('Clifford', 'Crookshanks')\n",
        "\n",
        "    full_friends_list = friends\n",
        "    full_friends_list.extend(full_pets)\n",
        "\n",
        "    print('These are all my friends:')\n",
        "    [print(f'{name} ', end=\"\") for name in full_friends_list]\n",
        "    print('\\n')"
      ],
      "metadata": {
        "id": "FkdM5aWnCcxh"
      },
      "execution_count": null,
      "outputs": []
    },
    {
      "cell_type": "code",
      "source": [
        "greeter(friends_list, pet_tuple)\n",
        "pets_are_friends(friends_list, pet_tuple)\n",
        "greeter(friends_list, pet_tuple)"
      ],
      "metadata": {
        "id": "aI8z7gV0CebN"
      },
      "execution_count": null,
      "outputs": []
    },
    {
      "cell_type": "markdown",
      "source": [
        "### **Classes**\n",
        "We have worked with many different types of python objects so far:\n",
        "strings, lists, dictionaries, etc.\n",
        "These objects have different attributes and respond in different ways to\n",
        "the built-in functions (`len`, etc.)\n",
        "\n",
        "How can we make our own, custom objects? Answer: by defining classes."
      ],
      "metadata": {
        "id": "3pvm8Lo7Cgvi"
      }
    },
    {
      "cell_type": "markdown",
      "source": [
        "#### **A class to represent a hurricane**\n",
        "\n",
        "Let's create our first class below,"
      ],
      "metadata": {
        "id": "tlhUVq_9Cp0J"
      }
    },
    {
      "cell_type": "code",
      "source": [
        "class Hurricane:\n",
        "\n",
        "    def __init__(self, name):\n",
        "        self.name = name"
      ],
      "metadata": {
        "id": "WxZOIzTpChaH"
      },
      "execution_count": null,
      "outputs": []
    },
    {
      "cell_type": "markdown",
      "source": [
        "And now let's create an *instance* of that class, `h`:"
      ],
      "metadata": {
        "id": "fdFHL4vmC1xl"
      }
    },
    {
      "cell_type": "code",
      "source": [
        "h = Hurricane('florence')\n",
        "print(h,h.name)"
      ],
      "metadata": {
        "colab": {
          "base_uri": "https://localhost:8080/"
        },
        "id": "3DS4U1GuCwV3",
        "outputId": "31ff8452-5b31-4b42-ca07-b974d6090a23"
      },
      "execution_count": null,
      "outputs": [
        {
          "output_type": "stream",
          "name": "stdout",
          "text": [
            "<__main__.Hurricane object at 0x7feac096e8d0> florence\n"
          ]
        }
      ]
    },
    {
      "cell_type": "markdown",
      "source": [
        "Let’s add more, along with some input validation:\n"
      ],
      "metadata": {
        "id": "MCk7twL4C61s"
      }
    },
    {
      "cell_type": "code",
      "source": [
        "class Hurricane:\n",
        "\n",
        "    def __init__(self, name, category, lon):\n",
        "        self.name = name.upper()\n",
        "        self.category = int(category)\n",
        "\n",
        "        if lon > 180 or lon < -180:\n",
        "            raise ValueError(f'Invalid lon {lon}')\n",
        "        self.lon = lon"
      ],
      "metadata": {
        "id": "rhrtC-TJC5ta"
      },
      "execution_count": null,
      "outputs": []
    },
    {
      "cell_type": "code",
      "source": [
        "h = Hurricane('florence', 4, -46)\n",
        "print(h,h.name)\n",
        "h = Hurricane('Ida', 5, 300)"
      ],
      "metadata": {
        "id": "sLdd00qRC_F4"
      },
      "execution_count": null,
      "outputs": []
    },
    {
      "cell_type": "code",
      "source": [
        "# Now let’s add a custom method:\n",
        "class Hurricane:\n",
        "\n",
        "    def __init__(self, name, category, lon):\n",
        "        self.name = name.upper()\n",
        "        self.category = int(category)\n",
        "\n",
        "        if lon > 180 or lon < -180:\n",
        "            raise ValueError(f'Invalid lon {lon}')\n",
        "        self.lon = lon\n",
        "\n",
        "    def is_dangerous(self):\n",
        "        return self.category > 1"
      ],
      "metadata": {
        "id": "cppN0ttsDAgE"
      },
      "execution_count": null,
      "outputs": []
    },
    {
      "cell_type": "code",
      "source": [
        "f = Hurricane('florence', 4, -46)\n",
        "f.is_dangerous()"
      ],
      "metadata": {
        "id": "Z0iAkf9LDB0c"
      },
      "execution_count": null,
      "outputs": []
    },
    {
      "cell_type": "markdown",
      "source": [
        "#### **Magic / Dunder Methods**\n",
        "We can implement special methods that begin with double-underscores (i.e. “dunder” methods), which allow us to customize the behavior of our classes. ([Read more here](https://www.python-course.eu/python3_magic_methods.php)). We have already learned one: `__init__`. Let’s implement the `__repr__` method to make our class display something pretty."
      ],
      "metadata": {
        "id": "upOCfE5jDEDr"
      }
    },
    {
      "cell_type": "code",
      "source": [
        "class Hurricane:\n",
        "\n",
        "    def __init__(self, name, category, lon):\n",
        "        self.name = name.upper()\n",
        "        self.category = int(category)\n",
        "\n",
        "        if lon > 180 or lon < -180:\n",
        "            raise ValueError(f'Invalid lon {lon}')\n",
        "        self.lon = lon\n",
        "\n",
        "    def __repr__(self):\n",
        "        return f\"<Hurricane {self.name} (cat {self.category})>\"\n",
        "\n",
        "    def is_dangerous(self):\n",
        "        return self.category > 1"
      ],
      "metadata": {
        "id": "6U_YXzB6DEpL"
      },
      "execution_count": null,
      "outputs": []
    },
    {
      "cell_type": "code",
      "source": [
        "f = Hurricane('florence', 4, -46)\n",
        "f"
      ],
      "metadata": {
        "id": "SLxt3EqoDIAS"
      },
      "execution_count": null,
      "outputs": []
    }
  ]
}